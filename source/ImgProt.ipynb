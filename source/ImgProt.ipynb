{
 "cells": [
  {
   "cell_type": "code",
   "execution_count": 9,
   "id": "67fc15d9",
   "metadata": {
    "tags": [
     "Import",
     "Arguments"
    ]
   },
   "outputs": [],
   "source": [
    "import os, argparse, configparser\n",
    "from PIL import Image, ImageFont, ImageDraw\n",
    "#import matplotlib.pyplot as plt\n",
    "#import numpy as np\n",
    "#import glob\n",
    "from configparser import ConfigParser\n",
    "\n",
    "parser = argparse.ArgumentParser()\n",
    "parser.add_argument('--watermark', help=\"True/False\", default=True)\n",
    "parser.add_argument('--ribbon', help=\"True/False\", default=False)\n",
    "parser.add_argument('--mixed', help=\"True/False\", default=False)\n",
    "args, unknown = parser.parse_known_args()"
   ]
  },
  {
   "cell_type": "code",
   "execution_count": 10,
   "id": "d10fa24d",
   "metadata": {
    "tags": [
     "Ini"
    ]
   },
   "outputs": [
    {
     "name": "stdout",
     "output_type": "stream",
     "text": [
      "Config initialization: success!\n",
      "PATH_INPUT: ../inputs/\n",
      "PATH_OUTPUT: ../outputs/\n",
      "SIZE_FONT: 50\n",
      "FAMILY_FONT: /usr/share/fonts/qualitype/QTGaromand-Bold.otf\n",
      "FAMILY_FONT: /usr/share/fonts/qualitype/QTGaromand-Bold.otf\n",
      "COLOR_TEXT: 255, 76, 48, 128\n",
      "TEXT_CAPTION: LoremIpsumLorem\n"
     ]
    }
   ],
   "source": [
    "FILE_CONFIG = ConfigParser()\n",
    "PATH_CONFIG =\"../config/config.ini\"\n",
    "# Debug\n",
    "DEBUG = None\n",
    "# Watermarks\n",
    "PATH_INPUT = \"/inputs\"\n",
    "PATH_OUTPUT = \"/outputs\"\n",
    "SIZE_FONT = 16\n",
    "FAMILY_FONT = \"arial.ttf\"\n",
    "COLOR_TEXT = \"255, 255, 255, 128\"\n",
    "TEXT_CAPTION = \"Lorem Ipsum\"\n",
    "\n",
    "# Config\n",
    "FILE_CONFIG.read(PATH_CONFIG)\n",
    "\n",
    "try:\n",
    "    # Debug\n",
    "    DEBUG = FILE_CONFIG.getboolean(\"debug\", \"DEBUG\")\n",
    "    # Watermarks\n",
    "    PATH_INPUT = FILE_CONFIG.get(\"watermarks\", \"PATH_INPUT\")\n",
    "    PATH_OUTPUT = FILE_CONFIG.get(\"watermarks\", \"PATH_OUTPUT\")\n",
    "    FAMILY_FONT = FILE_CONFIG.get(\"watermarks\", \"FAMILY_FONT\")\n",
    "    SIZE_FONT = FILE_CONFIG.getint(\"watermarks\", \"SIZE_FONT\")\n",
    "    COLOR_TEXT = FILE_CONFIG.get(\"watermarks\", \"COLOR_TEXT\")\n",
    "    TEXT_CAPTION = FILE_CONFIG.get(\"watermarks\", \"TEXT_CAPTION\")\n",
    "    PATH_OUTPUT = FILE_CONFIG.get(\"watermarks\", \"PATH_OUTPUT\")\n",
    "except Exception as e:\n",
    "    print(\"Config initialization: failure!\")\n",
    "    print(e)\n",
    "else:\n",
    "    print(\"Config initialization: success!\") \n",
    "finally:\n",
    "    if DEBUG == 1:\n",
    "        print(f\"PATH_INPUT: {PATH_INPUT}\\nPATH_OUTPUT: {PATH_OUTPUT}\\nSIZE_FONT: {SIZE_FONT}\\nFAMILY_FONT: {FAMILY_FONT}\\nFAMILY_FONT: {FAMILY_FONT}\\nCOLOR_TEXT: {COLOR_TEXT}\\nTEXT_CAPTION: {TEXT_CAPTION}\")"
   ]
  },
  {
   "cell_type": "code",
   "execution_count": 11,
   "id": "ea821402",
   "metadata": {
    "tags": [
     "Images"
    ]
   },
   "outputs": [
    {
     "name": "stdout",
     "output_type": "stream",
     "text": [
      "Successfuly loaded image: pexels-funny-foxy-pride-6244506.jpg\n",
      "Successfuly loaded image: pexels-jan-kopřiva-3280908.jpg\n",
      "Successfuly loaded image: pengu.png\n"
     ]
    }
   ],
   "source": [
    "imageFormat = [\".jpg\", \".png\", \".jfif\"]\n",
    "images = []\n",
    "\n",
    "#Function loadImages(PATH_INPUT)\n",
    "for file in os.listdir(PATH_INPUT):\n",
    "    exten = os.path.splitext(file)[1]\n",
    "    if exten.lower() in imageFormat:\n",
    "        try:\n",
    "            images.append([Image.open(os.path.join(PATH_INPUT, file)), file])\n",
    "            if DEBUG == 1:\n",
    "                print(f\"Successfuly loaded image: {file}\")\n",
    "                #print(\"Detected files: %s\" % (file))\n",
    "                #print(f\"Image path: {os.path.join(PATH_INPUT, file)}\")\n",
    "        except Exception:\n",
    "            print(f\"Failed to load image: {file}\")"
   ]
  },
  {
   "cell_type": "code",
   "execution_count": 12,
   "id": "269da7ea",
   "metadata": {},
   "outputs": [
    {
     "data": {
      "text/plain": [
       "[[<PIL.JpegImagePlugin.JpegImageFile image mode=RGB size=1280x847>,\n",
       "  'pexels-funny-foxy-pride-6244506.jpg'],\n",
       " [<PIL.JpegImagePlugin.JpegImageFile image mode=RGB size=1280x851>,\n",
       "  'pexels-jan-kopřiva-3280908.jpg'],\n",
       " [<PIL.PngImagePlugin.PngImageFile image mode=RGBA size=327x360>, 'pengu.png']]"
      ]
     },
     "execution_count": 12,
     "metadata": {},
     "output_type": "execute_result"
    }
   ],
   "source": [
    "images"
   ]
  },
  {
   "cell_type": "code",
   "execution_count": 13,
   "id": "533d4241",
   "metadata": {},
   "outputs": [],
   "source": [
    "def set_watermark (images, TEXT_CAPTION, COLOR_TEXT, FAMILY_FONT, SIZE_FONT, PATH_OUTPUT):\n",
    "    try:\n",
    "        font = ImageFont.truetype(FAMILY_FONT, SIZE_FONT)\n",
    "        print(\"Font initialization: success!\") \n",
    "    except Exception as e:\n",
    "        print(\"Font initialization: failure!\") \n",
    "        print(e)\n",
    "    rgba = [int(n) for n in COLOR_TEXT.split(\", \")]\n",
    "    for image in images:\n",
    "        #https://pillow.readthedocs.io/en/stable/reference/ImageDraw.html#example-draw-a-gray-cross-over-an-image\n",
    "        context = ImageDraw.Draw(image[0])\n",
    "        try:\n",
    "            context.text((0, 0), TEXT_CAPTION, font = font, fill = tuple([int(n) for n in COLOR_TEXT.split(\", \")]))\n",
    "        except:\n",
    "            print(\"Failed to draw watermark\")\n",
    "        try:\n",
    "            #image[0].save(str(os.path.abspath(os.path.join(PATH_OUTPUT, image[1]))))\n",
    "            image[0].save(os.path.join(PATH_OUTPUT, image[1]))\n",
    "        except:\n",
    "            print(\"Failed to save image\")\n",
    "            print(PATH_OUTPUT + image[1])\n",
    "            print(os.path.abspath(os.path.join(PATH_OUTPUT, image[1])))"
   ]
  },
  {
   "cell_type": "code",
   "execution_count": 14,
   "id": "74242004",
   "metadata": {
    "tags": [
     "Main"
    ]
   },
   "outputs": [],
   "source": [
    "# Not implemented\n",
    "if __name__ == '__ImgProt__':\n",
    "    watermark = args.watermark\n",
    "    ribbon = args.ribbon\n",
    "    mixed = args.mixed\n",
    "    if watermark:\n",
    "        if args.verbose:\n",
    "            print(\"Creating watermarks\")\n",
    "            set_watermark (images, TEXT_CAPTION, COLOR_TEXT, FAMILY_FONT, SIZE_FONT, PATH_OUTPUT)\n",
    "    if ribbon:\n",
    "        if args.verbose:\n",
    "            print(\"Attaching ribbons\")\n",
    "    if mixed:\n",
    "        if args.verbose:\n",
    "            print(\"Attaching the mix\")"
   ]
  },
  {
   "cell_type": "code",
   "execution_count": 15,
   "id": "cf958523",
   "metadata": {},
   "outputs": [
    {
     "name": "stdout",
     "output_type": "stream",
     "text": [
      "Font initialization: success!\n"
     ]
    }
   ],
   "source": [
    "set_watermark (images, TEXT_CAPTION, COLOR_TEXT, FAMILY_FONT, SIZE_FONT, PATH_OUTPUT)\n",
    "#(images, TEXT_CAPTION, COLOR_TEXT, FAMILY_FONT, SIZE_FONT, PATH_OUTPUT)"
   ]
  },
  {
   "cell_type": "code",
   "execution_count": 16,
   "id": "d6692bf9",
   "metadata": {},
   "outputs": [
    {
     "data": {
      "text/plain": [
       "(255, 76, 48, 128)"
      ]
     },
     "execution_count": 16,
     "metadata": {},
     "output_type": "execute_result"
    }
   ],
   "source": [
    "#rgba = [int(n) for n in COLOR_TEXT.split(\", \")]\n",
    "rgba = tuple([int(n) for n in COLOR_TEXT.split(\", \")])\n",
    "rgba"
   ]
  }
 ],
 "metadata": {
  "celltoolbar": "Tags",
  "kernelspec": {
   "display_name": "Python 3 (ipykernel)",
   "language": "python",
   "name": "python3"
  },
  "language_info": {
   "codemirror_mode": {
    "name": "ipython",
    "version": 3
   },
   "file_extension": ".py",
   "mimetype": "text/x-python",
   "name": "python",
   "nbconvert_exporter": "python",
   "pygments_lexer": "ipython3",
   "version": "3.12.3"
  }
 },
 "nbformat": 4,
 "nbformat_minor": 5
}
